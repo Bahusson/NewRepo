{
 "cells": [
  {
   "cell_type": "code",
   "execution_count": 14,
   "metadata": {},
   "outputs": [],
   "source": [
    "import pandas"
   ]
  },
  {
   "cell_type": "code",
   "execution_count": 25,
   "metadata": {},
   "outputs": [],
   "source": [
    "df = pandas.read_csv('random.txt', sep=' |,', engine='python', header =None)"
   ]
  },
  {
   "cell_type": "code",
   "execution_count": 72,
   "metadata": {},
   "outputs": [],
   "source": [
    "df1=df.drop(df.columns[0:2],1)"
   ]
  },
  {
   "cell_type": "code",
   "execution_count": 58,
   "metadata": {},
   "outputs": [],
   "source": [
    "df2 = df1.apply(pandas.value_counts).fillna(0);"
   ]
  },
  {
   "cell_type": "code",
   "execution_count": 67,
   "metadata": {},
   "outputs": [],
   "source": [
    "df2[\"8\"]=df2[2]+df2[3]+df2[4]+df2[5]+df2[6]+df2[7]"
   ]
  },
  {
   "cell_type": "code",
   "execution_count": 157,
   "metadata": {},
   "outputs": [],
   "source": [
    "df3=df2.drop(df.columns[2:8],1)\n",
    "nplus = df3.sort_values(['8'], ascending=[False])[:1].index;\n",
    "nminus = df3.sort_values(['8'], ascending=[False])[-1:].index;\n",
    "#poniżej output do zadania 1: najwyższa i najniższa liczba."
   ]
  },
  {
   "cell_type": "code",
   "execution_count": 153,
   "metadata": {},
   "outputs": [
    {
     "name": "stdout",
     "output_type": "stream",
     "text": [
      "najczęstsza liczba: \n"
     ]
    },
    {
     "data": {
      "text/plain": [
       "Int64Index([34], dtype='int64')"
      ]
     },
     "execution_count": 153,
     "metadata": {},
     "output_type": "execute_result"
    }
   ],
   "source": [
    "print(\"najczęstsza liczba: \"); nplus"
   ]
  },
  {
   "cell_type": "code",
   "execution_count": 158,
   "metadata": {},
   "outputs": [
    {
     "name": "stdout",
     "output_type": "stream",
     "text": [
      "narzadsza liczba: \n"
     ]
    },
    {
     "data": {
      "text/plain": [
       "Int64Index([48], dtype='int64')"
      ]
     },
     "execution_count": 158,
     "metadata": {},
     "output_type": "execute_result"
    }
   ],
   "source": [
    "print(\"narzadsza liczba: \"); nminus"
   ]
  },
  {
   "cell_type": "code",
   "execution_count": 159,
   "metadata": {},
   "outputs": [],
   "source": [
    "df4=df1.T"
   ]
  },
  {
   "cell_type": "code",
   "execution_count": 117,
   "metadata": {},
   "outputs": [
    {
     "data": {
      "text/plain": [
       "24.0    531\n",
       "26.0    495\n",
       "22.0    454\n",
       "28.0    438\n",
       "25.0    376\n",
       "30.0    358\n",
       "20.0    356\n",
       "27.0    341\n",
       "23.0    314\n",
       "21.0    289\n",
       "29.0    279\n",
       "18.0    250\n",
       "32.0    235\n",
       "19.0    232\n",
       "31.0    199\n",
       "16.0    149\n",
       "17.0    144\n",
       "33.0    124\n",
       "34.0    112\n",
       "36.0     72\n",
       "35.0     71\n",
       "14.0     67\n",
       "15.0     66\n",
       "13.0     35\n",
       "38.0     34\n",
       "37.0     32\n",
       "12.0     21\n",
       "11.0     13\n",
       "40.0     10\n",
       "10.0      9\n",
       "41.0      7\n",
       "39.0      5\n",
       "7.0       4\n",
       "8.0       3\n",
       "9.0       3\n",
       "42.0      3\n",
       "44.0      2\n",
       "6.0       1\n",
       "dtype: int64"
      ]
     },
     "execution_count": 117,
     "metadata": {},
     "output_type": "execute_result"
    }
   ],
   "source": [
    "df5=df4.mean().round(0).value_counts()\n",
    "df5"
   ]
  },
  {
   "cell_type": "code",
   "execution_count": null,
   "metadata": {},
   "outputs": [],
   "source": []
  }
 ],
 "metadata": {
  "kernelspec": {
   "display_name": "Python 3",
   "language": "python",
   "name": "python3"
  },
  "language_info": {
   "codemirror_mode": {
    "name": "ipython",
    "version": 3
   },
   "file_extension": ".py",
   "mimetype": "text/x-python",
   "name": "python",
   "nbconvert_exporter": "python",
   "pygments_lexer": "ipython3",
   "version": "3.6.4"
  }
 },
 "nbformat": 4,
 "nbformat_minor": 2
}
