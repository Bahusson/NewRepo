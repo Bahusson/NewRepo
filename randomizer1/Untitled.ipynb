{
 "cells": [
  {
   "cell_type": "code",
   "execution_count": 130,
   "metadata": {},
   "outputs": [
    {
     "name": "stdout",
     "output_type": "stream",
     "text": [
      "najczęstsza liczba: \n"
     ]
    },
    {
     "data": {
      "text/plain": [
       "34"
      ]
     },
     "execution_count": 130,
     "metadata": {},
     "output_type": "execute_result"
    }
   ],
   "source": [
    "import pandas\n",
    "import numpy as np\n",
    "import scipy.special\n",
    "from bokeh.layouts import gridplot\n",
    "from bokeh.plotting import figure, output_file, show\n",
    "\n",
    "df = pandas.read_csv('random.txt', sep=' |,', engine='python', header =None)\n",
    "\n",
    "df1=df.drop(df.columns[0:2],1)\n",
    "\n",
    "df2 = df1.apply(pandas.value_counts).fillna(0);\n",
    "\n",
    "df2[\"8\"]=df2[2]+df2[3]+df2[4]+df2[5]+df2[6]+df2[7]\n",
    "\n",
    "df3=df2.drop(df.columns[2:8],1)\n",
    "\n",
    "df3=df2.drop(df.columns[2:8],1)\n",
    "nplus = df3.sort_values(['8'], ascending=[False])[:1].index.values;\n",
    "nminus = df3.sort_values(['8'], ascending=[False])[-1:].index.values;\n",
    "#poniżej output do zadania 1: najwyższa i najniższa liczba.\n",
    "\n",
    "print(\"najczęstsza liczba: \"); int(nplus)"
   ]
  },
  {
   "cell_type": "code",
   "execution_count": 131,
   "metadata": {},
   "outputs": [
    {
     "name": "stdout",
     "output_type": "stream",
     "text": [
      "narzadsza liczba: \n"
     ]
    },
    {
     "data": {
      "text/plain": [
       "48"
      ]
     },
     "execution_count": 131,
     "metadata": {},
     "output_type": "execute_result"
    }
   ],
   "source": [
    "print(\"narzadsza liczba: \"); int(nminus)"
   ]
  },
  {
   "cell_type": "code",
   "execution_count": 132,
   "metadata": {},
   "outputs": [
    {
     "data": {
      "text/plain": [
       "array([531, 495, 454, 438, 376, 358, 356, 341, 314, 289, 279, 250, 235,\n",
       "       232, 199, 149, 144, 124, 112,  72,  71,  67,  66,  35,  34,  32,\n",
       "        21,  13,  10,   9,   7,   5,   4,   3,   3,   3,   2,   1],\n",
       "      dtype=int64)"
      ]
     },
     "execution_count": 132,
     "metadata": {},
     "output_type": "execute_result"
    }
   ],
   "source": [
    "df4=df1.T\n",
    "\n",
    "df5=df4.mean().round(0).value_counts()\n",
    "df6=df5.values\n",
    "df6[:]"
   ]
  },
  {
   "cell_type": "code",
   "execution_count": 133,
   "metadata": {},
   "outputs": [],
   "source": [
    "#x=df5.index\n",
    "y=df6[:]\n",
    "output_file('graph.html')\n",
    "f=figure()\n",
    "f.circle(x,y, size = 10, color=\"red\", alpha=0.6)\n",
    "show(f)\n"
   ]
  },
  {
   "cell_type": "code",
   "execution_count": null,
   "metadata": {},
   "outputs": [],
   "source": []
  }
 ],
 "metadata": {
  "kernelspec": {
   "display_name": "Python 3",
   "language": "python",
   "name": "python3"
  },
  "language_info": {
   "codemirror_mode": {
    "name": "ipython",
    "version": 3
   },
   "file_extension": ".py",
   "mimetype": "text/x-python",
   "name": "python",
   "nbconvert_exporter": "python",
   "pygments_lexer": "ipython3",
   "version": "3.6.4"
  }
 },
 "nbformat": 4,
 "nbformat_minor": 2
}
